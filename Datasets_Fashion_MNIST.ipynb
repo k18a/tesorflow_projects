{
  "nbformat": 4,
  "nbformat_minor": 0,
  "metadata": {
    "colab": {
      "name": "Datasets/Fashion_MNIST.ipynb",
      "provenance": [],
      "collapsed_sections": [],
      "authorship_tag": "ABX9TyP2xfuaVvo/W7qvvi8S4Jed",
      "include_colab_link": true
    },
    "kernelspec": {
      "name": "python3",
      "display_name": "Python 3"
    }
  },
  "cells": [
    {
      "cell_type": "markdown",
      "metadata": {
        "id": "view-in-github",
        "colab_type": "text"
      },
      "source": [
        "<a href=\"https://colab.research.google.com/github/k18a/tesorflow_projects/blob/master/Datasets_Fashion_MNIST.ipynb\" target=\"_parent\"><img src=\"https://colab.research.google.com/assets/colab-badge.svg\" alt=\"Open In Colab\"/></a>"
      ]
    },
    {
      "cell_type": "markdown",
      "metadata": {
        "id": "xzDsGO8HCjFG"
      },
      "source": [
        "# Exploratory Data Analysis of the Fashion-MNIST Dataset\n",
        "\n",
        "The Fashion-MNIST dataset consists of a labelled set of images of clothing articles from the high street outlet Zalando. It can be found here: https://github.com/zalandoresearch/fashion-mnist. \n",
        "\n",
        "The Fashnion MNIST dataset seeks to replace the original MNIST dataset of handwritten digits, as the first stop to test classification algorithms. Like the MNIST dataset, it has 10 labels - 10 different articles of clothing, 60,000 training images, and 10,000 test images. The labels are as follows: \n",
        "- 0\tT-shirt/top\n",
        "- 1\tTrouser\n",
        "- 2\tPullover\n",
        "- 3\tDress\n",
        "- 4\tCoat\n",
        "- 5\tSandal\n",
        "- 6\tShirt\n",
        "- 7\tSneaker\n",
        "- 8\tBag\n",
        "- 9\tAnkle boot"
      ]
    },
    {
      "cell_type": "code",
      "metadata": {
        "id": "2BX5tVSCCeKL",
        "outputId": "beda8ead-6927-42b7-cbf2-751546400d44",
        "colab": {
          "base_uri": "https://localhost:8080/"
        }
      },
      "source": [
        "# import packages\n",
        "import numpy as np\n",
        "import pandas as pd\n",
        "import tensorflow as tf\n",
        "from tensorflow import keras\n",
        "import matplotlib.pyplot as plt\n",
        "print('tensorflow version: {}'.format(tf.__version__))\n",
        "print('keras version: {}'.format(keras.__version__))"
      ],
      "execution_count": 1,
      "outputs": [
        {
          "output_type": "stream",
          "text": [
            "tensorflow version: 2.3.0\n",
            "keras version: 2.4.0\n"
          ],
          "name": "stdout"
        }
      ]
    },
    {
      "cell_type": "markdown",
      "metadata": {
        "id": "WIC4uSfpkfeT"
      },
      "source": [
        "MNIST Image classifier using Keras"
      ]
    },
    {
      "cell_type": "code",
      "metadata": {
        "id": "IUg1C0NrkdLc"
      },
      "source": [
        "# load data\n",
        "(X_total, y_total), (X_test, y_test) = keras.datasets.fashion_mnist.load_data()"
      ],
      "execution_count": 8,
      "outputs": []
    },
    {
      "cell_type": "code",
      "metadata": {
        "id": "i33QpRS7kzcA",
        "outputId": "5105af0a-f8e7-430f-fc3f-49f40a648290",
        "colab": {
          "base_uri": "https://localhost:8080/",
          "height": 274
        }
      },
      "source": [
        "# look at data\n",
        "print('training data:\\n')\n",
        "print('min:{}\\nmax:{}\\nmean:{}'.format(X_total.min(),X_total.max(),X_total.mean()))\n",
        "print('\\ntraining labels:\\n')\n",
        "print('shape: {}\\ndatatype: {}'.format(y_total.shape, y_total.dtype))\n",
        "print('min:{}\\nmax:{}\\nmean:{}\\n'.format(y_total.min(),y_total.max(),y_total.mean()))\n",
        "print('testing data:\\n')\n",
        "print('shape: {}\\ndatatype: {}'.format(X_test.shape, X_test.dtype))\n",
        "print('min:{}\\nmax:{}\\nmean:{}'.format(X_test.min(),X_test.max(),X_test.mean()))\n",
        "print('\\ntesting labels:\\n')\n",
        "print('shape: {}\\ndatatype: {}'.format(y_test.shape, y_test.dtype))\n",
        "print('min:{}\\nmax:{}\\nmean:{}'.format(y_test.min(),y_test.max(),y_test.mean()))"
      ],
      "execution_count": 1,
      "outputs": [
        {
          "output_type": "stream",
          "text": [
            "training data:\n",
            "\n"
          ],
          "name": "stdout"
        },
        {
          "output_type": "error",
          "ename": "NameError",
          "evalue": "ignored",
          "traceback": [
            "\u001b[0;31m---------------------------------------------------------------------------\u001b[0m",
            "\u001b[0;31mNameError\u001b[0m                                 Traceback (most recent call last)",
            "\u001b[0;32m<ipython-input-1-753b476542d6>\u001b[0m in \u001b[0;36m<module>\u001b[0;34m()\u001b[0m\n\u001b[1;32m      1\u001b[0m \u001b[0;31m# look at data\u001b[0m\u001b[0;34m\u001b[0m\u001b[0;34m\u001b[0m\u001b[0;34m\u001b[0m\u001b[0m\n\u001b[1;32m      2\u001b[0m \u001b[0mprint\u001b[0m\u001b[0;34m(\u001b[0m\u001b[0;34m'training data:\\n'\u001b[0m\u001b[0;34m)\u001b[0m\u001b[0;34m\u001b[0m\u001b[0;34m\u001b[0m\u001b[0m\n\u001b[0;32m----> 3\u001b[0;31m \u001b[0mprint\u001b[0m\u001b[0;34m(\u001b[0m\u001b[0;34m'min:{}\\nmax:{}\\nmean:{}'\u001b[0m\u001b[0;34m.\u001b[0m\u001b[0mformat\u001b[0m\u001b[0;34m(\u001b[0m\u001b[0mX_total\u001b[0m\u001b[0;34m.\u001b[0m\u001b[0mmin\u001b[0m\u001b[0;34m(\u001b[0m\u001b[0;34m)\u001b[0m\u001b[0;34m,\u001b[0m\u001b[0mX_total\u001b[0m\u001b[0;34m.\u001b[0m\u001b[0mmax\u001b[0m\u001b[0;34m(\u001b[0m\u001b[0;34m)\u001b[0m\u001b[0;34m,\u001b[0m\u001b[0mX_total\u001b[0m\u001b[0;34m.\u001b[0m\u001b[0mmean\u001b[0m\u001b[0;34m(\u001b[0m\u001b[0;34m)\u001b[0m\u001b[0;34m)\u001b[0m\u001b[0;34m)\u001b[0m\u001b[0;34m\u001b[0m\u001b[0;34m\u001b[0m\u001b[0m\n\u001b[0m\u001b[1;32m      4\u001b[0m \u001b[0mprint\u001b[0m\u001b[0;34m(\u001b[0m\u001b[0;34m'\\ntraining labels:\\n'\u001b[0m\u001b[0;34m)\u001b[0m\u001b[0;34m\u001b[0m\u001b[0;34m\u001b[0m\u001b[0m\n\u001b[1;32m      5\u001b[0m \u001b[0mprint\u001b[0m\u001b[0;34m(\u001b[0m\u001b[0;34m'shape: {}\\ndatatype: {}'\u001b[0m\u001b[0;34m.\u001b[0m\u001b[0mformat\u001b[0m\u001b[0;34m(\u001b[0m\u001b[0my_total\u001b[0m\u001b[0;34m.\u001b[0m\u001b[0mshape\u001b[0m\u001b[0;34m,\u001b[0m \u001b[0my_total\u001b[0m\u001b[0;34m.\u001b[0m\u001b[0mdtype\u001b[0m\u001b[0;34m)\u001b[0m\u001b[0;34m)\u001b[0m\u001b[0;34m\u001b[0m\u001b[0;34m\u001b[0m\u001b[0m\n",
            "\u001b[0;31mNameError\u001b[0m: name 'X_total' is not defined"
          ]
        }
      ]
    },
    {
      "cell_type": "markdown",
      "metadata": {
        "id": "r0UCKXuOlmSj"
      },
      "source": [
        "There are 60,000 images in the training dataset, and 10,000 images in the testing dataset. Each image has 28 x 29 pixels. Each pixel has a value between 0 and 255 - they are greyscale. Also, there are 0 labels in total. From the documentation, we know that these are as follows:\n",
        "\n"
      ]
    },
    {
      "cell_type": "code",
      "metadata": {
        "id": "lSFL62g-xQ6N",
        "outputId": "60959849-75df-4d12-a043-58aafef4f8cd",
        "colab": {
          "base_uri": "https://localhost:8080/",
          "height": 117
        }
      },
      "source": [
        "# class names for mnist dataset \n",
        "class_names = {\n",
        "    0:'T-shirt',\n",
        "    1:'Trouser',\n",
        "    2:'Pullover',\n",
        "    3:'Dress',\n",
        "    4:'Coat',\n",
        "    5:'Sandal',\n",
        "    6:'Shirt',\n",
        "    7:'Sneaker',\n",
        "    8:'Bag',\n",
        "    9:'Ankle boot'\n",
        "}\n",
        "# plot figure\n",
        "figure, axes = plt.subplots(nrows = 1, ncols= 10,figsize=(15,2))\n",
        "for i in range(10):\n",
        "  index = np.where(y_total==i)[0][0]\n",
        "  axes[i].imshow(X_total[index,:,:],cmap='gray_r')\n",
        "  axes[i].title.set_text(class_names[i])\n",
        "  axes[i].axis('off')"
      ],
      "execution_count": 14,
      "outputs": [
        {
          "output_type": "display_data",
          "data": {
            "image/png": "[encoded data removed]",
            "text/plain": [
              "<Figure size 1080x144 with 10 Axes>"
            ]
          },
          "metadata": {
            "tags": [],
            "needs_background": "light"
          }
        }
      ]
    },
    {
      "cell_type": "code",
      "metadata": {
        "id": "323qLbwVlMOC"
      },
      "source": [
        "# split into training and validation data, scale them, and convert them to float\n",
        "X_valid, X_train = X_train_full[:5000]/255.0, X_train_full[5000:]/255.0\n",
        "y_valid, y_train = y_train_full[:5000], y_train_full[5000:]\n",
        "X_test = X_test / 255.0"
      ],
      "execution_count": null,
      "outputs": []
    },
    {
      "cell_type": "code",
      "metadata": {
        "id": "8rYsAa_IoEWZ",
        "outputId": "852017f9-60d8-410e-f3e9-f1b0702dc570",
        "colab": {
          "base_uri": "https://localhost:8080/",
          "height": 283
        }
      },
      "source": [
        "# look at resulting training dataset\n",
        "print('training data:\\n')\n",
        "print('shape: {}\\ndatatype: {}'.format(X_train.shape, X_train.dtype))\n",
        "print('min:{}\\nmax:{}\\nmean:{}'.format(X_train.min(),X_train.max(),X_train.mean()))\n",
        "print('\\ntraining labels:\\n')\n",
        "print('shape: {}\\ndatatype: {}'.format(y_train.shape, y_train.dtype))\n",
        "print('min:{}\\nmax:{}\\nmean:{}'.format(y_train.min(),y_train.max(),y_train.mean()))"
      ],
      "execution_count": null,
      "outputs": [
        {
          "output_type": "stream",
          "text": [
            "training data:\n",
            "\n",
            "shape: (55000, 28, 28)\n",
            "datatype: float64\n",
            "min:0.0\n",
            "max:1.0\n",
            "mean:0.28603097466259203\n",
            "\n",
            "training labels:\n",
            "\n",
            "shape: (55000,)\n",
            "datatype: uint8\n",
            "min:0\n",
            "max:9\n",
            "mean:4.5\n"
          ],
          "name": "stdout"
        }
      ]
    },
    {
      "cell_type": "code",
      "metadata": {
        "id": "k5xZn8p4wN3M",
        "outputId": "c022986e-3818-4b02-90fc-bfa5215c9829",
        "colab": {
          "base_uri": "https://localhost:8080/",
          "height": 301
        }
      },
      "source": [
        "# set up Keras sequential model\n",
        "model = keras.models.Sequential()\n",
        "model.add(keras.layers.Flatten(input_shape=[28,28]))\n",
        "model.add(keras.layers.Dense(300,activation='relu'))\n",
        "model.add(keras.layers.Dense(100,activation='relu'))\n",
        "model.add(keras.layers.Dense(10,activation='softmax'))\n",
        "model.summary()"
      ],
      "execution_count": null,
      "outputs": [
        {
          "output_type": "stream",
          "text": [
            "Model: \"sequential\"\n",
            "_________________________________________________________________\n",
            "Layer (type)                 Output Shape              Param #   \n",
            "=================================================================\n",
            "flatten (Flatten)            (None, 784)               0         \n",
            "_________________________________________________________________\n",
            "dense (Dense)                (None, 300)               235500    \n",
            "_________________________________________________________________\n",
            "dense_1 (Dense)              (None, 100)               30100     \n",
            "_________________________________________________________________\n",
            "dense_2 (Dense)              (None, 10)                1010      \n",
            "=================================================================\n",
            "Total params: 266,610\n",
            "Trainable params: 266,610\n",
            "Non-trainable params: 0\n",
            "_________________________________________________________________\n"
          ],
          "name": "stdout"
        }
      ]
    },
    {
      "cell_type": "code",
      "metadata": {
        "id": "KZYMbqyZwRb0"
      },
      "source": [
        "# compile model\n",
        "model.compile(loss='sparse_categorical_crossentropy', # for sparse labels\n",
        "              optimizer = 'sgd', # stochastic gradient descent\n",
        "              metrics = ['accuracy'])"
      ],
      "execution_count": null,
      "outputs": []
    },
    {
      "cell_type": "code",
      "metadata": {
        "id": "hNVxRk6J42_G",
        "outputId": "d64bc1a7-e931-42c9-a11b-354ab93541db",
        "colab": {
          "base_uri": "https://localhost:8080/",
          "height": 1000
        }
      },
      "source": [
        "# fit model\n",
        "history = model.fit(X_train, y_train, epochs=30, validation_data=(X_valid,y_valid))"
      ],
      "execution_count": null,
      "outputs": [
        {
          "output_type": "stream",
          "text": [
            "Epoch 1/30\n",
            "1719/1719 [==============================] - 4s 3ms/step - loss: 0.7252 - accuracy: 0.7623 - val_loss: 0.4890 - val_accuracy: 0.8398\n",
            "Epoch 2/30\n",
            "1719/1719 [==============================] - 4s 3ms/step - loss: 0.4878 - accuracy: 0.8293 - val_loss: 0.4707 - val_accuracy: 0.8318\n",
            "Epoch 3/30\n",
            "1719/1719 [==============================] - 4s 2ms/step - loss: 0.4448 - accuracy: 0.8434 - val_loss: 0.4100 - val_accuracy: 0.8590\n",
            "Epoch 4/30\n",
            "1719/1719 [==============================] - 4s 2ms/step - loss: 0.4149 - accuracy: 0.8534 - val_loss: 0.4059 - val_accuracy: 0.8552\n",
            "Epoch 5/30\n",
            "1719/1719 [==============================] - 4s 3ms/step - loss: 0.3949 - accuracy: 0.8607 - val_loss: 0.3837 - val_accuracy: 0.8670\n",
            "Epoch 6/30\n",
            "1719/1719 [==============================] - 4s 3ms/step - loss: 0.3795 - accuracy: 0.8642 - val_loss: 0.3689 - val_accuracy: 0.8708\n",
            "Epoch 7/30\n",
            "1719/1719 [==============================] - 4s 3ms/step - loss: 0.3657 - accuracy: 0.8710 - val_loss: 0.3579 - val_accuracy: 0.8766\n",
            "Epoch 8/30\n",
            "1719/1719 [==============================] - 4s 2ms/step - loss: 0.3539 - accuracy: 0.8744 - val_loss: 0.3509 - val_accuracy: 0.8756\n",
            "Epoch 9/30\n",
            "1719/1719 [==============================] - 4s 2ms/step - loss: 0.3431 - accuracy: 0.8781 - val_loss: 0.3466 - val_accuracy: 0.8774\n",
            "Epoch 10/30\n",
            "1719/1719 [==============================] - 4s 2ms/step - loss: 0.3343 - accuracy: 0.8814 - val_loss: 0.3509 - val_accuracy: 0.8738\n",
            "Epoch 11/30\n",
            "1719/1719 [==============================] - 4s 2ms/step - loss: 0.3266 - accuracy: 0.8837 - val_loss: 0.3514 - val_accuracy: 0.8736\n",
            "Epoch 12/30\n",
            "1719/1719 [==============================] - 4s 2ms/step - loss: 0.3184 - accuracy: 0.8860 - val_loss: 0.3542 - val_accuracy: 0.8758\n",
            "Epoch 13/30\n",
            "1719/1719 [==============================] - 4s 2ms/step - loss: 0.3108 - accuracy: 0.8886 - val_loss: 0.3217 - val_accuracy: 0.8870\n",
            "Epoch 14/30\n",
            "1719/1719 [==============================] - 4s 2ms/step - loss: 0.3043 - accuracy: 0.8908 - val_loss: 0.3428 - val_accuracy: 0.8788\n",
            "Epoch 15/30\n",
            "1719/1719 [==============================] - 4s 2ms/step - loss: 0.2972 - accuracy: 0.8927 - val_loss: 0.3231 - val_accuracy: 0.8816\n",
            "Epoch 16/30\n",
            "1719/1719 [==============================] - 4s 2ms/step - loss: 0.2907 - accuracy: 0.8948 - val_loss: 0.3199 - val_accuracy: 0.8856\n",
            "Epoch 17/30\n",
            "1719/1719 [==============================] - 4s 2ms/step - loss: 0.2858 - accuracy: 0.8969 - val_loss: 0.3196 - val_accuracy: 0.8896\n",
            "Epoch 18/30\n",
            "1719/1719 [==============================] - 4s 2ms/step - loss: 0.2796 - accuracy: 0.8996 - val_loss: 0.3172 - val_accuracy: 0.8890\n",
            "Epoch 19/30\n",
            "1719/1719 [==============================] - 4s 3ms/step - loss: 0.2740 - accuracy: 0.9012 - val_loss: 0.3317 - val_accuracy: 0.8818\n",
            "Epoch 20/30\n",
            "1719/1719 [==============================] - 4s 2ms/step - loss: 0.2700 - accuracy: 0.9022 - val_loss: 0.3113 - val_accuracy: 0.8892\n",
            "Epoch 21/30\n",
            "1719/1719 [==============================] - 4s 2ms/step - loss: 0.2641 - accuracy: 0.9041 - val_loss: 0.3342 - val_accuracy: 0.8774\n",
            "Epoch 22/30\n",
            "1719/1719 [==============================] - 4s 3ms/step - loss: 0.2592 - accuracy: 0.9061 - val_loss: 0.3082 - val_accuracy: 0.8882\n",
            "Epoch 23/30\n",
            "1719/1719 [==============================] - 4s 2ms/step - loss: 0.2544 - accuracy: 0.9075 - val_loss: 0.3094 - val_accuracy: 0.8874\n",
            "Epoch 24/30\n",
            "1719/1719 [==============================] - 4s 2ms/step - loss: 0.2496 - accuracy: 0.9099 - val_loss: 0.3013 - val_accuracy: 0.8912\n",
            "Epoch 25/30\n",
            "1719/1719 [==============================] - 4s 2ms/step - loss: 0.2460 - accuracy: 0.9107 - val_loss: 0.3122 - val_accuracy: 0.8902\n",
            "Epoch 26/30\n",
            "1719/1719 [==============================] - 4s 2ms/step - loss: 0.2421 - accuracy: 0.9122 - val_loss: 0.3314 - val_accuracy: 0.8874\n",
            "Epoch 27/30\n",
            "1719/1719 [==============================] - 4s 2ms/step - loss: 0.2367 - accuracy: 0.9152 - val_loss: 0.3149 - val_accuracy: 0.8856\n",
            "Epoch 28/30\n",
            "1719/1719 [==============================] - 4s 2ms/step - loss: 0.2341 - accuracy: 0.9158 - val_loss: 0.3192 - val_accuracy: 0.8882\n",
            "Epoch 29/30\n",
            "1719/1719 [==============================] - 4s 2ms/step - loss: 0.2290 - accuracy: 0.9169 - val_loss: 0.2927 - val_accuracy: 0.8948\n",
            "Epoch 30/30\n",
            "1719/1719 [==============================] - 4s 2ms/step - loss: 0.2255 - accuracy: 0.9188 - val_loss: 0.2912 - val_accuracy: 0.8966\n"
          ],
          "name": "stdout"
        }
      ]
    },
    {
      "cell_type": "code",
      "metadata": {
        "id": "XZKWA-OG_iU2",
        "outputId": "f2696da4-621c-4587-eb99-9b04b38c337c",
        "colab": {
          "base_uri": "https://localhost:8080/",
          "height": 286
        }
      },
      "source": [
        "# plot training and validation metrics during training\n",
        "pd.DataFrame(history.history).plot()\n",
        "plt.ylim([0,1])"
      ],
      "execution_count": null,
      "outputs": [
        {
          "output_type": "execute_result",
          "data": {
            "text/plain": [
              "(0.0, 1.0)"
            ]
          },
          "metadata": {
            "tags": []
          },
          "execution_count": 11
        },
        {
          "output_type": "display_data",
          "data": {
            "image/png": "[encoded data removed]",
            "text/plain": [
              "<Figure size 432x288 with 1 Axes>"
            ]
          },
          "metadata": {
            "tags": [],
            "needs_background": "light"
          }
        }
      ]
    },
    {
      "cell_type": "markdown",
      "metadata": {
        "id": "5SvERReMBBad"
      },
      "source": [
        "- there seems to be an anamalous result in which validation accuracy is higher than training accuracy at epoch 0. this is because validation error is computed at the end of each epoch, whilst the training error is computed during each epoch, so the training error should be shifted by half an epoch to the left"
      ]
    },
    {
      "cell_type": "code",
      "metadata": {
        "id": "26qcQrVdAj_b",
        "outputId": "8bb1efca-70c1-4d41-c1bc-59981f45063a",
        "colab": {
          "base_uri": "https://localhost:8080/",
          "height": 52
        }
      },
      "source": [
        "# evaluate model\n",
        "model.evaluate(X_test,y_test)"
      ],
      "execution_count": null,
      "outputs": [
        {
          "output_type": "stream",
          "text": [
            "313/313 [==============================] - 0s 1ms/step - loss: 0.3348 - accuracy: 0.8817\n"
          ],
          "name": "stdout"
        },
        {
          "output_type": "execute_result",
          "data": {
            "text/plain": [
              "[0.33476492762565613, 0.8816999793052673]"
            ]
          },
          "metadata": {
            "tags": []
          },
          "execution_count": 12
        }
      ]
    },
    {
      "cell_type": "code",
      "metadata": {
        "id": "cWZwS2p6Doq2",
        "outputId": "8e5f1dc5-3d4d-4799-96ab-fb1f9c5160bc",
        "colab": {
          "base_uri": "https://localhost:8080/",
          "height": 34
        }
      },
      "source": [
        "model.predict(X_test[1:2,:,:]).round(2)"
      ],
      "execution_count": null,
      "outputs": [
        {
          "output_type": "execute_result",
          "data": {
            "text/plain": [
              "array([[0., 0., 1., 0., 0., 0., 0., 0., 0., 0.]], dtype=float32)"
            ]
          },
          "metadata": {
            "tags": []
          },
          "execution_count": 29
        }
      ]
    },
    {
      "cell_type": "code",
      "metadata": {
        "id": "TTgyOaTqvyLF",
        "outputId": "4e3c21ca-bf62-43f0-a7a5-f417f01b89c3",
        "colab": {
          "base_uri": "https://localhost:8080/",
          "height": 34
        }
      },
      "source": [
        "np.argmax(model.predict(X_test[1:2,:,:]).round(2),axis=-1)"
      ],
      "execution_count": null,
      "outputs": [
        {
          "output_type": "execute_result",
          "data": {
            "text/plain": [
              "array([2])"
            ]
          },
          "metadata": {
            "tags": []
          },
          "execution_count": 31
        }
      ]
    },
    {
      "cell_type": "code",
      "metadata": {
        "id": "y-fUDNes-tLc"
      },
      "source": [
        ""
      ],
      "execution_count": null,
      "outputs": []
    }
  ]
}